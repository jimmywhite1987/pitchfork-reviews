{
 "cells": [
  {
   "cell_type": "code",
   "execution_count": 18,
   "id": "e9028452",
   "metadata": {},
   "outputs": [],
   "source": [
    "from flask import Flask, render_template, redirect, url_for, jsonify\n",
    "from config import DB_PASSWORD\n",
    "from flask_cors import CORS\n",
    "import psycopg2\n",
    "import os"
   ]
  },
  {
   "cell_type": "code",
   "execution_count": 37,
   "id": "94759b1e",
   "metadata": {},
   "outputs": [
    {
     "data": {
      "text/plain": [
       "<flask_cors.extension.CORS at 0x7ffc910bf370>"
      ]
     },
     "execution_count": 37,
     "metadata": {},
     "output_type": "execute_result"
    }
   ],
   "source": [
    "DATABASE = os.getenv('postgres://postgres@uncc-database.cdwa3ro17u26.us-east-2.rds.amazonaws.com:5432/postgres')\n",
    "DATABASE_USERNAME = os.getenv('postgres')\n",
    "DATABASE_PASSWORD = os.getenv(DB_PASSWORD)\n",
    "\n",
    "app = Flask(__name__)\n",
    "\n",
    "CORS(app)"
   ]
  },
  {
   "cell_type": "code",
   "execution_count": 38,
   "id": "b0670608",
   "metadata": {},
   "outputs": [
    {
     "name": "stdout",
     "output_type": "stream",
     "text": [
      "Error\n"
     ]
    }
   ],
   "source": [
    "try:\n",
    "    con = psycopg2.connect(\n",
    "        database=DATABASE,\n",
    "        user=DATABASE_USERNAME,\n",
    "        password=DATABASE_PASSWORD)\n",
    "\n",
    "    cur = con.cursor()\n",
    "\n",
    "    # GET: Fetch all movies from the database\n",
    "    @app.route('/')\n",
    "    def fetch_all_movies():\n",
    "        cur.execute('SELECT * FROM gws_cleaned_dataset')\n",
    "        rows = cur.fetchall()\n",
    "        print(rows)\n",
    "\n",
    "        return jsonify(rows)\n",
    "except:\n",
    "    print('Error')"
   ]
  },
  {
   "cell_type": "code",
   "execution_count": null,
   "id": "44bb0484",
   "metadata": {},
   "outputs": [],
   "source": []
  }
 ],
 "metadata": {
  "kernelspec": {
   "display_name": "TensorFlow",
   "language": "python",
   "name": "tensorflow"
  },
  "language_info": {
   "codemirror_mode": {
    "name": "ipython",
    "version": 3
   },
   "file_extension": ".py",
   "mimetype": "text/x-python",
   "name": "python",
   "nbconvert_exporter": "python",
   "pygments_lexer": "ipython3",
   "version": "3.8.8"
  }
 },
 "nbformat": 4,
 "nbformat_minor": 5
}
